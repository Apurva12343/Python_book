{
 "cells": [
  {
   "cell_type": "code",
   "execution_count": 4,
   "metadata": {},
   "outputs": [],
   "source": [
    "Condom = [\"Durex\", \"Kamasutra\", \"Manforce\", \"Trozen\", \"lifestyle Skin\", \"Astroglide\", \"Skore\"]"
   ]
  },
  {
   "cell_type": "code",
   "execution_count": 5,
   "metadata": {},
   "outputs": [
    {
     "data": {
      "text/plain": [
       "['Durex',\n",
       " 'Kamasutra',\n",
       " 'Manforce',\n",
       " 'Trozen',\n",
       " 'lifestyle Skin',\n",
       " 'Astroglide',\n",
       " 'Skore']"
      ]
     },
     "execution_count": 5,
     "metadata": {},
     "output_type": "execute_result"
    }
   ],
   "source": [
    "Condom"
   ]
  },
  {
   "cell_type": "code",
   "execution_count": 6,
   "metadata": {},
   "outputs": [
    {
     "name": "stdout",
     "output_type": "stream",
     "text": [
      "Durex\n",
      "Kamasutra\n",
      "Manforce\n",
      "Trozen\n",
      "lifestyle Skin\n",
      "Astroglide\n",
      "Skore\n"
     ]
    }
   ],
   "source": [
    "for i in Condom:\n",
    "    print(i)"
   ]
  },
  {
   "cell_type": "code",
   "execution_count": 10,
   "metadata": {},
   "outputs": [
    {
     "name": "stdout",
     "output_type": "stream",
     "text": [
      "Use Durex Condom for Better Pleasure.\n",
      "Use Kamasutra Condom for Better Pleasure.\n",
      "Use Manforce Condom for Better Pleasure.\n",
      "Use Trozen Condom for Better Pleasure.\n",
      "Use Lifestyle Skin Condom for Better Pleasure.\n",
      "Use Astroglide Condom for Better Pleasure.\n",
      "Use Skore Condom for Better Pleasure.\n"
     ]
    }
   ],
   "source": [
    "for i in Condom:\n",
    "    print(f\"Use {i.title()} Condom for Better Pleasure.\")"
   ]
  },
  {
   "cell_type": "code",
   "execution_count": 11,
   "metadata": {},
   "outputs": [
    {
     "name": "stdout",
     "output_type": "stream",
     "text": [
      "Use Durex Condom for Better Pleasure.\n",
      "I Can't wait to use DUREX condom.\n",
      "Use Kamasutra Condom for Better Pleasure.\n",
      "I Can't wait to use KAMASUTRA condom.\n",
      "Use Manforce Condom for Better Pleasure.\n",
      "I Can't wait to use MANFORCE condom.\n",
      "Use Trozen Condom for Better Pleasure.\n",
      "I Can't wait to use TROZEN condom.\n",
      "Use Lifestyle Skin Condom for Better Pleasure.\n",
      "I Can't wait to use LIFESTYLE SKIN condom.\n",
      "Use Astroglide Condom for Better Pleasure.\n",
      "I Can't wait to use ASTROGLIDE condom.\n",
      "Use Skore Condom for Better Pleasure.\n",
      "I Can't wait to use SKORE condom.\n"
     ]
    }
   ],
   "source": [
    "for i in Condom:\n",
    "    print(f\"Use {i.title()} Condom for Better Pleasure.\")\n",
    "    print(f\"I Can't wait to use {i.upper()} condom.\")"
   ]
  },
  {
   "cell_type": "code",
   "execution_count": 20,
   "metadata": {},
   "outputs": [
    {
     "name": "stdout",
     "output_type": "stream",
     "text": [
      "Use Durex Condom for Better Pleasure.\n",
      "I Can't wait to use DUREX condom.\n",
      "\n",
      "Use Kamasutra Condom for Better Pleasure.\n",
      "I Can't wait to use KAMASUTRA condom.\n",
      "\n",
      "Use Manforce Condom for Better Pleasure.\n",
      "I Can't wait to use MANFORCE condom.\n",
      "\n",
      "Use Trozen Condom for Better Pleasure.\n",
      "I Can't wait to use TROZEN condom.\n",
      "\n",
      "Use Lifestyle Skin Condom for Better Pleasure.\n",
      "I Can't wait to use LIFESTYLE SKIN condom.\n",
      "\n",
      "Use Astroglide Condom for Better Pleasure.\n",
      "I Can't wait to use ASTROGLIDE condom.\n",
      "\n",
      "Use Skore Condom for Better Pleasure.\n",
      "I Can't wait to use SKORE condom.\n",
      "\n",
      "Thanks Buddy These Condoms were reallly amazing.\n"
     ]
    }
   ],
   "source": [
    "for i in Condom:\n",
    "    print(f\"Use {i.title()} Condom for Better Pleasure.\")\n",
    "    print(f\"I Can't wait to use {i.upper()} condom.\\n\")\n",
    "print(\"Thanks Buddy These Condoms were reallly amazing.\")"
   ]
  },
  {
   "cell_type": "code",
   "execution_count": 18,
   "metadata": {},
   "outputs": [
    {
     "ename": "IndentationError",
     "evalue": "expected an indented block (4095396950.py, line 2)",
     "output_type": "error",
     "traceback": [
      "\u001b[1;36m  File \u001b[1;32m\"C:\\Users\\91736\\AppData\\Local\\Temp\\ipykernel_15680\\4095396950.py\"\u001b[1;36m, line \u001b[1;32m2\u001b[0m\n\u001b[1;33m    print(i)\u001b[0m\n\u001b[1;37m    ^\u001b[0m\n\u001b[1;31mIndentationError\u001b[0m\u001b[1;31m:\u001b[0m expected an indented block\n"
     ]
    }
   ],
   "source": [
    "for i in Condom:\n",
    "print(i)"
   ]
  },
  {
   "cell_type": "code",
   "execution_count": 26,
   "metadata": {},
   "outputs": [],
   "source": [
    "Pizza = [\"My Mac\", \"Mac Special\", \"Margritha\"]"
   ]
  },
  {
   "cell_type": "code",
   "execution_count": 28,
   "metadata": {},
   "outputs": [
    {
     "data": {
      "text/plain": [
       "['My Mac', 'Mac Special', 'Margritha']"
      ]
     },
     "execution_count": 28,
     "metadata": {},
     "output_type": "execute_result"
    }
   ],
   "source": [
    "Pizza"
   ]
  },
  {
   "cell_type": "code",
   "execution_count": 30,
   "metadata": {},
   "outputs": [
    {
     "name": "stdout",
     "output_type": "stream",
     "text": [
      "I like MY MAC Pizza\n",
      "I like MAC SPECIAL Pizza\n",
      "I like MARGRITHA Pizza\n"
     ]
    }
   ],
   "source": [
    "for i in Pizza:\n",
    "    print(f\"I like {i.upper()} Pizza\")"
   ]
  },
  {
   "cell_type": "code",
   "execution_count": 32,
   "metadata": {},
   "outputs": [
    {
     "name": "stdout",
     "output_type": "stream",
     "text": [
      "I like MY MAC Pizza\n",
      "I like MAC SPECIAL Pizza\n",
      "I like MARGRITHA Pizza\n",
      "I like pizza.\n"
     ]
    }
   ],
   "source": [
    "for i in Pizza:\n",
    "    print(f\"I like {i.upper()} Pizza\")\n",
    "print(\"I like pizza.\")"
   ]
  },
  {
   "cell_type": "code",
   "execution_count": 33,
   "metadata": {},
   "outputs": [],
   "source": [
    "jaanwar = [\"Cheetha\", \"Baagh\", \"Tenduaaa\", \"Billi\"]"
   ]
  },
  {
   "cell_type": "code",
   "execution_count": 34,
   "metadata": {},
   "outputs": [
    {
     "data": {
      "text/plain": [
       "['Cheetha', 'Baagh', 'Tenduaaa', 'Billi']"
      ]
     },
     "execution_count": 34,
     "metadata": {},
     "output_type": "execute_result"
    }
   ],
   "source": [
    "jaanwar"
   ]
  },
  {
   "cell_type": "code",
   "execution_count": 35,
   "metadata": {},
   "outputs": [
    {
     "name": "stdout",
     "output_type": "stream",
     "text": [
      "CHEETHA ek Maanshahari jaanwar hai. \n",
      "BAAGH ek Maanshahari jaanwar hai. \n",
      "TENDUAAA ek Maanshahari jaanwar hai. \n",
      "BILLI ek Maanshahari jaanwar hai. \n"
     ]
    }
   ],
   "source": [
    "for i in jaanwar:\n",
    "    print(f\"{i.upper()} ek Maanshahari jaanwar hai. \")"
   ]
  },
  {
   "cell_type": "code",
   "execution_count": 36,
   "metadata": {},
   "outputs": [
    {
     "name": "stdout",
     "output_type": "stream",
     "text": [
      "CHEETHA ek Maanshahari jaanwar hai. \n",
      "BAAGH ek Maanshahari jaanwar hai. \n",
      "TENDUAAA ek Maanshahari jaanwar hai. \n",
      "BILLI ek Maanshahari jaanwar hai. \n",
      "Yeh sabhi jaanwar ek hi prajaati ke hote hain.\n"
     ]
    }
   ],
   "source": [
    "for i in jaanwar:\n",
    "    print(f\"{i.upper()} ek Maanshahari jaanwar hai. \")\n",
    "print(\"Yeh sabhi jaanwar ek hi prajaati ke hote hain.\")"
   ]
  },
  {
   "cell_type": "code",
   "execution_count": 53,
   "metadata": {},
   "outputs": [
    {
     "name": "stdout",
     "output_type": "stream",
     "text": [
      "1\n",
      "2\n",
      "3\n",
      "4\n"
     ]
    }
   ],
   "source": [
    "for i in range(1,5):\n",
    "    print(i)"
   ]
  },
  {
   "cell_type": "code",
   "execution_count": 54,
   "metadata": {},
   "outputs": [
    {
     "data": {
      "text/plain": [
       "[2, 4, 6, 8, 10, 12, 14, 16, 18, 20]"
      ]
     },
     "execution_count": 54,
     "metadata": {},
     "output_type": "execute_result"
    }
   ],
   "source": [
    "table = list(range(2,21,2))\n",
    "table"
   ]
  },
  {
   "cell_type": "code",
   "execution_count": 57,
   "metadata": {},
   "outputs": [
    {
     "name": "stdout",
     "output_type": "stream",
     "text": [
      "[4, 16, 36, 64, 100, 144, 196, 256, 324, 400]\n"
     ]
    }
   ],
   "source": [
    "#Square of tabale of two\n",
    "square = []\n",
    "for i in range(2,21,2):\n",
    "    i = i**2\n",
    "    square.append(i)\n",
    "\n",
    "print(square)"
   ]
  },
  {
   "cell_type": "code",
   "execution_count": 58,
   "metadata": {},
   "outputs": [
    {
     "data": {
      "text/plain": [
       "[4, 16, 36, 64, 100, 144, 196, 256, 324, 400]"
      ]
     },
     "execution_count": 58,
     "metadata": {},
     "output_type": "execute_result"
    }
   ],
   "source": [
    "square"
   ]
  },
  {
   "cell_type": "code",
   "execution_count": 59,
   "metadata": {},
   "outputs": [
    {
     "data": {
      "text/plain": [
       "4"
      ]
     },
     "execution_count": 59,
     "metadata": {},
     "output_type": "execute_result"
    }
   ],
   "source": [
    "min(square)"
   ]
  },
  {
   "cell_type": "code",
   "execution_count": 60,
   "metadata": {},
   "outputs": [
    {
     "data": {
      "text/plain": [
       "400"
      ]
     },
     "execution_count": 60,
     "metadata": {},
     "output_type": "execute_result"
    }
   ],
   "source": [
    "max(square)"
   ]
  },
  {
   "cell_type": "code",
   "execution_count": 61,
   "metadata": {},
   "outputs": [
    {
     "data": {
      "text/plain": [
       "1540"
      ]
     },
     "execution_count": 61,
     "metadata": {},
     "output_type": "execute_result"
    }
   ],
   "source": [
    "sum(square)"
   ]
  },
  {
   "cell_type": "code",
   "execution_count": 64,
   "metadata": {},
   "outputs": [
    {
     "data": {
      "text/plain": [
       "[1, 4, 9, 16, 25, 36, 49, 64, 81, 100]"
      ]
     },
     "execution_count": 64,
     "metadata": {},
     "output_type": "execute_result"
    }
   ],
   "source": [
    "#list comprehension\n",
    "sq = [i**2 for i in range(1,11)]\n",
    "sq"
   ]
  },
  {
   "cell_type": "code",
   "execution_count": null,
   "metadata": {},
   "outputs": [],
   "source": []
  },
  {
   "cell_type": "code",
   "execution_count": null,
   "metadata": {},
   "outputs": [],
   "source": []
  }
 ],
 "metadata": {
  "kernelspec": {
   "display_name": "base",
   "language": "python",
   "name": "python3"
  },
  "language_info": {
   "codemirror_mode": {
    "name": "ipython",
    "version": 3
   },
   "file_extension": ".py",
   "mimetype": "text/x-python",
   "name": "python",
   "nbconvert_exporter": "python",
   "pygments_lexer": "ipython3",
   "version": "3.9.13"
  }
 },
 "nbformat": 4,
 "nbformat_minor": 2
}
